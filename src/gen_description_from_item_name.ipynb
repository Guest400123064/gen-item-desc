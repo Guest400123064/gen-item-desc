{
 "cells": [
  {
   "cell_type": "code",
   "execution_count": 1,
   "metadata": {
    "id": "f5NDXrN2CtH7"
   },
   "outputs": [],
   "source": [
    "import os\n",
    "import json\n",
    "import gzip\n",
    "import pandas as pd\n",
    "from urllib.request import urlopen"
   ]
  },
  {
   "cell_type": "code",
   "execution_count": null,
   "metadata": {
    "colab": {
     "base_uri": "https://localhost:8080/",
     "height": 204
    },
    "id": "feWoOrmt4Tja",
    "outputId": "963508d3-a264-4323-c160-dd046b3a1703"
   },
   "outputs": [
    {
     "name": "stdout",
     "output_type": "stream",
     "text": [
      "--2020-01-04 23:26:54--  http://deepyeti.ucsd.edu/jianmo/amazon/sample/meta_Computers.json.gz\n",
      "Resolving deepyeti.ucsd.edu (deepyeti.ucsd.edu)... 169.228.63.50\n",
      "Connecting to deepyeti.ucsd.edu (deepyeti.ucsd.edu)|169.228.63.50|:80... connected.\n",
      "HTTP request sent, awaiting response... 200 OK\n",
      "Length: 7010521 (6.7M) [application/octet-stream]\n",
      "Saving to: ‘meta_Computers.json.gz’\n",
      "\n",
      "meta_Computers.json 100%[===================>]   6.69M  6.02MB/s    in 1.1s    \n",
      "\n",
      "2020-01-04 23:26:55 (6.02 MB/s) - ‘meta_Computers.json.gz’ saved [7010521/7010521]\n",
      "\n"
     ]
    }
   ],
   "source": [
    "#!wget http://deepyeti.ucsd.edu/jianmo/amazon/sample/meta_Computers.json.gz"
   ]
  },
  {
   "cell_type": "code",
   "execution_count": 14,
   "metadata": {},
   "outputs": [],
   "source": [
    "# !pip install spacy\n",
    "# !python3 -m spacy download en_core_web_lg"
   ]
  },
  {
   "cell_type": "code",
   "execution_count": null,
   "metadata": {},
   "outputs": [],
   "source": [
    "# import spacy\n",
    "# nlp = spacy.load(\"en_core_web_lg\")\n",
    "# def generate_keywords_spacy(title):\n",
    "#     doc = nlp(title)\n",
    "#     entList=[]\n",
    "#     i=0\n",
    "#     for ent in doc.ents:\n",
    "#         entList.append(str(ent))\n",
    "#     return \", \".join(entList)\n",
    "# title=\"Coolred-Women Retro Split Sexy Skinny Premium Qipao Maxi Dress Cheongsam\"\n",
    "# generate_keywords_spacy(title)"
   ]
  },
  {
   "cell_type": "markdown",
   "metadata": {},
   "source": [
    "### GPT-3 Few-Shot"
   ]
  },
  {
   "cell_type": "code",
   "execution_count": 11,
   "metadata": {
    "colab": {
     "base_uri": "https://localhost:8080/",
     "height": 71
    },
    "id": "7igYuRaV4bF7",
    "outputId": "c0595e40-c850-43b2-d32a-43cb2cbd0e1f"
   },
   "outputs": [],
   "source": [
    "### load the meta data\n",
    "\n",
    "#data_adjusted_few_shot = \"\"\n",
    "data = \"\"\n",
    "# with open('All_Amazon_Meta.json') as f:\n",
    "#     i=0\n",
    "#     for l in f:\n",
    "#         if i==1000:\n",
    "#             break\n",
    "#         doc=json.loads(l.strip())\n",
    "#         data+=\"keywords: \"+doc[\"title\"]+\"\\n\"+\"description: \"+str(doc[\"description\"])+\"\\n\"\n",
    "#         #data_adjusted_few_shot+=\"keywords: \"+generate_keywords_spacy(doc[\"title\"])+\"\\n\"+\"description: \"+doc[\"description\"][0]+\"\\n\"\n",
    "#         i+=1\n",
    "    \n",
    "# # total length of list, this number equals total number of products\n",
    "# print(i)\n",
    "\n",
    "# # first row of the list\n",
    "# print(data)\n",
    "\n",
    "\n",
    "#12 examples for few-shot\n",
    "data+=\"item: Sunglasses\\n\"+\"description: All of our sunglasses offer protection against excessive exposure to light. The most widespread protection is against ultraviolet radiation, which can cause short-term and long-term ocular problems such as photo keratitis, snow blindness, cataracts, pterygium, and various forms of eye cancer. Medical experts advise the public on the importance of wearing sunglasses to protect the eyes from UV; for adequate protection, experts recommend sunglasses that reflect or filter out 99-100 % of UVA and UVB light, with wavelengths up to 400 nm. Sunglasses which meet this requirement are often labeled as \\\"UV400.\\\" This is slightly more protection than the widely used standard of the European Union.\\n\"\n",
    "data+=\"item: Scarf\\n\"+\"description: Feature -Great quality winter scarf. -A head or neck scarf that can be worn so many ways. A flexible accessory in great fashion colours. Absolutely superb with a coat or jacket and jeans. -The scarf is Soft, Light and with a luxurious feel. -Can be used as every day use or those special occasions -Ideal accessory to jazz up a casual outfit and is a perfect gift. -If you have any problems about our dress,please contact us before placing the order.\\n\"\n",
    "data+=\"item: Pants\\n\"+\"description: With its unique styles, QIBO is composed of men''s hoodie and casual pants. And our clothing is in possession of a great number of varieties with hip hops or punks, which stands for youthful attitude. This brand has drawn ideas and inspiration from music, artist and underground literature, to creat a new fashion series which gather the avant-garde pattern and elaborate attired structure. These bring QIBO with rock style and exquisite disruptive pant size.\\n\"\n",
    "data+=\"item: T-Shirt\\n\"+\"description: Made from a mix of 50% Cotton and 50% Polyester, this mens Vikings T-Shirt is officially licensed and is perfect for fans of the hit TV show. Not only does it provide style and comfort in one neat package, but its also available in a range of sizes, including Small, Medium, Large, XL and XXL. This Vikings Tee is just one of our many TV- and movie-inspired products.\\n\"\n",
    "data+=\"item: Overcoat\\n\"+\"description: we recommend you to double check size measurement in each product description comparing with your clothes.If you haven tried our goods before, we suggest you to pick 1~2 size bigger.\\n\"\n",
    "data+=\"item: Necklace\\n\"+\"description: This beautiful cowrie shell necklace can fitany neck size! It looks great and is strung on a comfortable and strong nylon cord, which is also waterproof. Imported from Africa.\\n\"\n",
    "data+=\"item: Briefcase\\n\"+\"description: This piece locks with a key and can be used with its adjustable shoulder strap. The interior is divided into 3 sections, one of which contains a zip pocket. One section contains pockets for a cell phone and pens, and on the back there is an additional open pocket. Made in Italy.\\n\"\n",
    "data+=\"item: Sports Bra\\n\"+\"description: Move worry-free with this wireless sports bra from Enell. Made from high quality Nylon and LYCRA, this sports bra prevents skin chafing while providing optimum support. The front hook closure helps you wear or take off the bra easily. Contructed with Naturexx Performance Fabric that wicks away moisture to keep you cool and odor-free during the most intense workouts\\n\"\n",
    "data+=\"item: Pocket Wallet\\n\"+\"description: As part of the Bosca's Old Leather Collection, this Deluxe Front Pocket Wallet is made from leather that showcases Bosca's rich tradition. Blending classicism with modernity, the leather is created from raw leather with hand-sponged vegetable dyes applied to the through centuries-old Tuscan techniques. The features of this front pocket wallet include a magnetic money clip, 3 credit card slots and top pocket for folded bills, cards and receipts. Each Bosca Old Leather Collection Black Deluxe Front Pocket Wallet measures approximately 4.25 inches long by 3 inches wide by 0.5 inches deep.\\n\"\n",
    "data+=\"item: Mask\\n\"+\"description: Adult vinyl half mask, Simpson Character Mr. Burns. Adult size. *Trademark and Copyright 2005 Twentieth Century Fox Film Corporation. All Rights Reserved.\\n\"\n",
    "data+=\"item: Watch\\n\"+\"description: Stainless steel case with a stainless steel link bracelet. Fixed stainless steel bezel. Silver dial with silver-tone hands and Roman numeral hour markers. Date display at the 3 o'clock position. Quartz movement. Scratch resistant sapphire crystal. Solid case back.\\n\"\n",
    "data+=\"item: Shoe\\n\"+\"decription: Kick back and relax after a long day on the trails with the mens Jungle Moc from Merrell. Designed with comfort in mind, the mens Jungle Moc slip-on shoe is versatile enough to wear around the campsite or to the pub. Available in a variety of colors, the Merrell mens Jungle Moc will coordinate with both your adventure gear and your khakis. When youre looking for a casual shoe with enough style for a trip into town, this is the perfect fit. Molded nylon arch shank\\n\""
   ]
  },
  {
   "cell_type": "code",
   "execution_count": 12,
   "metadata": {},
   "outputs": [],
   "source": [
    "%%capture\n",
    "!pip install --upgrade openai\n",
    "!pip install jsonlines"
   ]
  },
  {
   "cell_type": "code",
   "execution_count": 13,
   "metadata": {},
   "outputs": [],
   "source": [
    "import os\n",
    "import openai\n",
    "\n",
    "print('Enter OpenAI API key:')\n",
    "openai.api_key = input()\n",
    "\n",
    "os.environ['OPENAI_API_KEY']=openai.api_key"
   ]
  },
  {
   "cell_type": "code",
   "execution_count": 15,
   "metadata": {},
   "outputs": [
    {
     "data": {
      "text/plain": [
       "'This item is a great addition to any wardrobe. It is made from a mix of 50% Cotton and 50% Polyester, making it both comfortable and stylish. The T-Shirt is officially licensed and is perfect for fans of the hit TV show. It is available in a range of sizes, including Small, Medium, Large, XL and XXL.'"
      ]
     },
     "execution_count": 15,
     "metadata": {},
     "output_type": "execute_result"
    }
   ],
   "source": [
    "def get_description(item):\n",
    "  response = openai.Completion.create(\n",
    "      engine=\"text-davinci-002\",\n",
    "      prompt=data+\"item: item\\n\"+\"description: \",\n",
    "      temperature=0.7,\n",
    "      max_tokens=256,\n",
    "      top_p=1,\n",
    "      frequency_penalty=0,\n",
    "      presence_penalty=0,\n",
    "  )\n",
    "  turn = response['choices'][0]['text'].strip()\n",
    "  return turn\n",
    "get_description(\"knife\")\n"
   ]
  },
  {
   "cell_type": "markdown",
   "metadata": {},
   "source": [
    "### COMET"
   ]
  },
  {
   "cell_type": "code",
   "execution_count": 30,
   "metadata": {},
   "outputs": [
    {
     "name": "stdout",
     "output_type": "stream",
     "text": [
      "Cloning into 'comet-atomic-2020'...\n",
      "remote: Enumerating objects: 184, done.\u001b[K\n",
      "remote: Counting objects: 100% (128/128), done.\u001b[K\n",
      "remote: Compressing objects: 100% (86/86), done.\u001b[K\n",
      "remote: Total 184 (delta 56), reused 90 (delta 32), pack-reused 56\u001b[K\n",
      "Receiving objects: 100% (184/184), 7.16 MiB | 11.48 MiB/s, done.\n",
      "Resolving deltas: 100% (62/62), done.\n"
     ]
    }
   ],
   "source": [
    "!git clone https://github.com/allenai/comet-atomic-2020.git"
   ]
  },
  {
   "cell_type": "code",
   "execution_count": 1,
   "metadata": {},
   "outputs": [],
   "source": [
    "import os\n",
    "os.chdir('comet-atomic-2020')"
   ]
  },
  {
   "cell_type": "code",
   "execution_count": 7,
   "metadata": {},
   "outputs": [],
   "source": [
    "%%capture\n",
    "!pip install rouge_score\n",
    "!pip install transformers\n",
    "!pip install -r requirements.txt"
   ]
  },
  {
   "cell_type": "code",
   "execution_count": 9,
   "metadata": {},
   "outputs": [],
   "source": [
    "%%capture\n",
    "!python3 -m pip install stanza\n",
    "\n",
    "import stanza\n",
    "stanza.download('en')"
   ]
  },
  {
   "cell_type": "code",
   "execution_count": 14,
   "metadata": {},
   "outputs": [
    {
     "name": "stdout",
     "output_type": "stream",
     "text": [
      "--2022-03-29 18:33:50--  https://storage.googleapis.com/ai2-mosaic-public/projects/mosaic-kgs/comet-atomic_2020_BART.zip\n",
      "Resolving storage.googleapis.com (storage.googleapis.com)... 2607:f8b0:4006:81c::2010, 2607:f8b0:4006:822::2010, 2607:f8b0:4006:820::2010, ...\n",
      "Connecting to storage.googleapis.com (storage.googleapis.com)|2607:f8b0:4006:81c::2010|:443... connected.\n",
      "HTTP request sent, awaiting response... 200 OK\n",
      "Length: 1507095346 (1.4G) [application/zip]\n",
      "Saving to: ‘comet-atomic_2020_BART.zip’\n",
      "\n",
      "comet-atomic_2020_B 100%[===================>]   1.40G  13.3MB/s    in 1m 50s  \n",
      "\n",
      "2022-03-29 18:35:41 (13.0 MB/s) - ‘comet-atomic_2020_BART.zip’ saved [1507095346/1507095346]\n",
      "\n",
      "Archive:  comet-atomic_2020_BART.zip\n",
      "   creating: comet-atomic_2020_BART/\n",
      "  inflating: comet-atomic_2020_BART/added_tokens.json  \n",
      "  inflating: comet-atomic_2020_BART/.DS_Store  \n",
      "  inflating: __MACOSX/comet-atomic_2020_BART/._.DS_Store  \n",
      "  inflating: comet-atomic_2020_BART/tokenizer_config.json  \n",
      "  inflating: comet-atomic_2020_BART/special_tokens_map.json  \n",
      "  inflating: comet-atomic_2020_BART/config.json  \n",
      "  inflating: comet-atomic_2020_BART/.added_tokens.json.swp  \n",
      "  inflating: comet-atomic_2020_BART/merges.txt  \n",
      "  inflating: comet-atomic_2020_BART/pytorch_model.bin  \n",
      "  inflating: comet-atomic_2020_BART/vocab.json  \n"
     ]
    }
   ],
   "source": [
    "# Download the model\n",
    "!bash models/comet_atomic2020_bart/download_model.sh"
   ]
  },
  {
   "cell_type": "code",
   "execution_count": 2,
   "metadata": {},
   "outputs": [
    {
     "name": "stderr",
     "output_type": "stream",
     "text": [
      "/usr/lib/python3/dist-packages/requests/__init__.py:89: RequestsDependencyWarning: urllib3 (1.26.9) or chardet (3.0.4) doesn't match a supported version!\n",
      "  warnings.warn(\"urllib3 ({}) or chardet ({}) doesn't match a supported \"\n"
     ]
    },
    {
     "name": "stdout",
     "output_type": "stream",
     "text": [
      "model loading ...\n",
      "model loaded\n"
     ]
    }
   ],
   "source": [
    "# Load the model\n",
    "# copied from models/comet_atomic2020_bart/generation_example.py\n",
    "\n",
    "import json\n",
    "import torch\n",
    "import argparse\n",
    "from tqdm import tqdm\n",
    "from pathlib import Path\n",
    "from transformers import AutoModelForSeq2SeqLM, AutoTokenizer\n",
    "from models.comet_atomic2020_bart.utils import calculate_rouge, use_task_specific_params, calculate_bleu_score, trim_batch\n",
    "\n",
    "\n",
    "def chunks(lst, n):\n",
    "    \"\"\"Yield successive n-sized chunks from lst.\"\"\"\n",
    "    for i in range(0, len(lst), n):\n",
    "        yield lst[i : i + n]\n",
    "\n",
    "\n",
    "class Comet:\n",
    "    def __init__(self, model_path):\n",
    "        self.device = \"cuda\" if torch.cuda.is_available() else \"cpu\"\n",
    "        self.model = AutoModelForSeq2SeqLM.from_pretrained(model_path).to(self.device)\n",
    "        self.tokenizer = AutoTokenizer.from_pretrained(model_path)\n",
    "        task = \"summarization\"\n",
    "        use_task_specific_params(self.model, task)\n",
    "        self.batch_size = 1\n",
    "        self.decoder_start_token_id = None\n",
    "\n",
    "    def generate(\n",
    "            self, \n",
    "            queries,\n",
    "            decode_method=\"beam\", \n",
    "            num_generate=5, \n",
    "            ):\n",
    "\n",
    "        with torch.no_grad():\n",
    "            examples = queries\n",
    "\n",
    "            decs = []\n",
    "            for batch in list(chunks(examples, self.batch_size)):\n",
    "\n",
    "                batch = self.tokenizer(batch, return_tensors=\"pt\", truncation=True, padding=\"max_length\").to(self.device)\n",
    "                input_ids, attention_mask = trim_batch(**batch, pad_token_id=self.tokenizer.pad_token_id)\n",
    "\n",
    "                summaries = self.model.generate(\n",
    "                    input_ids=input_ids,\n",
    "                    attention_mask=attention_mask,\n",
    "                    decoder_start_token_id=self.decoder_start_token_id,\n",
    "                    num_beams=num_generate,\n",
    "                    num_return_sequences=num_generate,\n",
    "                    )\n",
    "\n",
    "                dec = self.tokenizer.batch_decode(summaries, skip_special_tokens=True, clean_up_tokenization_spaces=False)\n",
    "                decs.append(dec)\n",
    "\n",
    "            return decs\n",
    "\n",
    "print(\"model loading ...\")\n",
    "comet = Comet(\"./comet-atomic_2020_BART\")\n",
    "comet.model.zero_grad()\n",
    "print(\"model loaded\")"
   ]
  },
  {
   "cell_type": "code",
   "execution_count": 12,
   "metadata": {},
   "outputs": [
    {
     "data": {
      "text/plain": [
       "[[' knife blade',\n",
       "  ' knife handle',\n",
       "  ' sharp edge',\n",
       "  ' knifehead',\n",
       "  ' knife sharp']]"
      ]
     },
     "execution_count": 12,
     "metadata": {},
     "output_type": "execute_result"
    }
   ],
   "source": [
    "#run COMET to generate description based on \"if-then\" relationship \n",
    "def get_description_comet(item, relation):\n",
    "    queries = []\n",
    "    head = item\n",
    "    rel = relation\n",
    "    query = \"{} {} [GEN]\".format(head, rel)\n",
    "    queries.append(query)\n",
    "    results = comet.generate(queries, decode_method=\"beam\", num_generate=5)\n",
    "    return results\n",
    "get_description_comet(\"knife\", \"MadeOf\")"
   ]
  }
 ],
 "metadata": {
  "colab": {
   "collapsed_sections": [],
   "name": "parse_and_clean_meta_data.ipynb",
   "provenance": []
  },
  "kernelspec": {
   "display_name": "Python 3 (ipykernel)",
   "language": "python",
   "name": "python3"
  },
  "language_info": {
   "codemirror_mode": {
    "name": "ipython",
    "version": 3
   },
   "file_extension": ".py",
   "mimetype": "text/x-python",
   "name": "python",
   "nbconvert_exporter": "python",
   "pygments_lexer": "ipython3",
   "version": "3.8.10"
  }
 },
 "nbformat": 4,
 "nbformat_minor": 1
}
