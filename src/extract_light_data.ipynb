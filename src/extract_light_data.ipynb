{
  "nbformat": 4,
  "nbformat_minor": 0,
  "metadata": {
    "colab": {
      "name": "extract_light_data.ipynb",
      "provenance": [],
      "collapsed_sections": []
    },
    "kernelspec": {
      "name": "python3",
      "display_name": "Python 3"
    },
    "language_info": {
      "name": "python"
    }
  },
  "cells": [
    {
      "cell_type": "code",
      "execution_count": 2,
      "metadata": {
        "colab": {
          "base_uri": "https://localhost:8080/"
        },
        "id": "O0Oe0WJHjw2H",
        "outputId": "a8e26678-7c30-44f1-e956-e78e007520cf"
      },
      "outputs": [
        {
          "output_type": "stream",
          "name": "stdout",
          "text": [
            "Downloading...\n",
            "From: https://drive.google.com/uc?id=1OB_vIw0dAbsnyZv1nkjYhJeC7rD2bOEN\n",
            "To: /content/light-environment.pkl\n",
            "\r  0% 0.00/2.81M [00:00<?, ?B/s]\r100% 2.81M/2.81M [00:00<00:00, 169MB/s]\n"
          ]
        }
      ],
      "source": [
        "# download LIGHT dataset\n",
        "!pip install -q gdown\n",
        "!gdown --id 1OB_vIw0dAbsnyZv1nkjYhJeC7rD2bOEN"
      ]
    },
    {
      "cell_type": "code",
      "source": [
        "import pickle\n",
        "\n",
        "# extract LIGHT environment data\n",
        "# 661 rooms, 3462 objects, and 1755 character types\n",
        "with open('light-environment.pkl', 'rb') as f:\n",
        "    light_environment = pickle.load(f)"
      ],
      "metadata": {
        "id": "XxUppBDxj7Z8"
      },
      "execution_count": 3,
      "outputs": []
    },
    {
      "cell_type": "code",
      "source": [
        ""
      ],
      "metadata": {
        "id": "aNFBUjvlkJZB"
      },
      "execution_count": null,
      "outputs": []
    },
    {
      "cell_type": "code",
      "source": [
        ""
      ],
      "metadata": {
        "id": "hInYHKRwkJ9n"
      },
      "execution_count": null,
      "outputs": []
    }
  ]
}